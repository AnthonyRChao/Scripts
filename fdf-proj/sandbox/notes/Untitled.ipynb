{
 "cells": [
  {
   "cell_type": "code",
   "execution_count": 1,
   "metadata": {},
   "outputs": [],
   "source": [
    "write_data = ['accrued_income|alt_id1_type|alt_id1_value|alt_id2_type|alt_id2_value|alt_id3_type|alt_id3_value|asset_class|average_contract_open_price|bloomberg_ticker|contract_size|cusip|deliverable_basket_qty|excluded_basket_qty|factor|isin|local_currency|mic|name|price(in_fund_base_currency)|price_multiplier|pricing_basket_qty|ric|sedol', '|||||||EQUITY||||R0139K100|330.0000|0.0000|1.000000|NO0010345853|NOK||AKER BP|32.278408||329.2049||B1L95G3', '|||||||EQUITY||||032511107|1537.0000|0.0000|1.000000|US0325111070|USD||ANADARKO PETROLEUM CORP|46.250000||1536.6148||2032380']"
   ]
  },
  {
   "cell_type": "code",
   "execution_count": 2,
   "metadata": {},
   "outputs": [
    {
     "data": {
      "text/plain": [
       "3"
      ]
     },
     "execution_count": 2,
     "metadata": {},
     "output_type": "execute_result"
    }
   ],
   "source": [
    "len(write_data)"
   ]
  },
  {
   "cell_type": "code",
   "execution_count": 3,
   "metadata": {},
   "outputs": [
    {
     "data": {
      "text/plain": [
       "'accrued_income|alt_id1_type|alt_id1_value|alt_id2_type|alt_id2_value|alt_id3_type|alt_id3_value|asset_class|average_contract_open_price|bloomberg_ticker|contract_size|cusip|deliverable_basket_qty|excluded_basket_qty|factor|isin|local_currency|mic|name|price(in_fund_base_currency)|price_multiplier|pricing_basket_qty|ric|sedol'"
      ]
     },
     "execution_count": 3,
     "metadata": {},
     "output_type": "execute_result"
    }
   ],
   "source": [
    "write_data[0]"
   ]
  },
  {
   "cell_type": "code",
   "execution_count": 6,
   "metadata": {},
   "outputs": [
    {
     "data": {
      "text/plain": [
       "'|||||||EQUITY||||R0139K100|330.0000|0.0000|1.000000|NO0010345853|NOK||AKER BP|32.278408||329.2049||B1L95G3'"
      ]
     },
     "execution_count": 6,
     "metadata": {},
     "output_type": "execute_result"
    }
   ],
   "source": [
    "write_data[1]"
   ]
  }
 ],
 "metadata": {
  "kernelspec": {
   "display_name": "Python 3",
   "language": "python",
   "name": "python3"
  },
  "language_info": {
   "codemirror_mode": {
    "name": "ipython",
    "version": 3
   },
   "file_extension": ".py",
   "mimetype": "text/x-python",
   "name": "python",
   "nbconvert_exporter": "python",
   "pygments_lexer": "ipython3",
   "version": "3.6.2"
  }
 },
 "nbformat": 4,
 "nbformat_minor": 2
}
