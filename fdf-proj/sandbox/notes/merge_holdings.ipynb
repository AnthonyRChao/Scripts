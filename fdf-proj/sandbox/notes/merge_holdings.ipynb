{
 "cells": [
  {
   "cell_type": "code",
   "execution_count": 1,
   "metadata": {},
   "outputs": [],
   "source": [
    "sec = ['ASSET CLASS,NAME,MIC,CUSIP,ISIN,SEDOL,DELIVERABLE BASKET QTY,PRICING BASKET QTY,EXCLUDED BASKET QTY,PRICE(in Fund Base Currency),LOCAL CURRENCY,FACTOR,ACCRUED INCOME,ALT ID1 TYPE, ALT ID1 VALUE,ALT ID2 TYPE, ALT ID2 VALUE,ALT ID3 TYPE, ALT ID3 VALUE', 'EQUITY,AKER BP,,R0139K100,NO0010345853,B1L95G3,330.0000,329.2049,0.0000,32.278408,NOK,1.000000,,,,,,,']\n",
    "\n",
    "syn = ['ASSET CLASS,NAME,RIC,CUSIP,ISIN,SEDOL,DELIVERABLE BASKET QTY,PRICING BASKET QTY,EXCLUDED BASKET QTY,PRICE(in Fund Base Currency),PRICE MULTIPLIER,CONTRACT SIZE,AVERAGE CONTRACT OPEN PRICE,BLOOMBERG TICKER', 'FUTURES,EMINI ENERGY SELECT SECTOR MAR 19,1XAEH9,,,,0,0.04098,0,625.000000,,100,,IXPH9']\n"
   ]
  },
  {
   "cell_type": "code",
   "execution_count": 2,
   "metadata": {},
   "outputs": [],
   "source": [
    "sec_split = [row.split(',') for row in sec]\n",
    "syn_split = [row.split(',') for row in syn]"
   ]
  },
  {
   "cell_type": "code",
   "execution_count": 4,
   "metadata": {},
   "outputs": [],
   "source": [
    "sec_headers = sec_split[0]\n",
    "syn_headers = syn_split[0]"
   ]
  },
  {
   "cell_type": "code",
   "execution_count": 5,
   "metadata": {},
   "outputs": [],
   "source": [
    "sec_data = sec_split[1:]\n",
    "syn_data = syn_split[1:]"
   ]
  },
  {
   "cell_type": "code",
   "execution_count": 6,
   "metadata": {},
   "outputs": [],
   "source": [
    "import pandas as pd"
   ]
  },
  {
   "cell_type": "code",
   "execution_count": 11,
   "metadata": {},
   "outputs": [
    {
     "data": {
      "text/html": [
       "<div>\n",
       "<style scoped>\n",
       "    .dataframe tbody tr th:only-of-type {\n",
       "        vertical-align: middle;\n",
       "    }\n",
       "\n",
       "    .dataframe tbody tr th {\n",
       "        vertical-align: top;\n",
       "    }\n",
       "\n",
       "    .dataframe thead th {\n",
       "        text-align: right;\n",
       "    }\n",
       "</style>\n",
       "<table border=\"1\" class=\"dataframe\">\n",
       "  <thead>\n",
       "    <tr style=\"text-align: right;\">\n",
       "      <th></th>\n",
       "      <th>ASSET CLASS</th>\n",
       "      <th>NAME</th>\n",
       "      <th>MIC</th>\n",
       "      <th>CUSIP</th>\n",
       "      <th>ISIN</th>\n",
       "      <th>SEDOL</th>\n",
       "      <th>DELIVERABLE BASKET QTY</th>\n",
       "      <th>PRICING BASKET QTY</th>\n",
       "      <th>EXCLUDED BASKET QTY</th>\n",
       "      <th>PRICE(in Fund Base Currency)</th>\n",
       "      <th>LOCAL CURRENCY</th>\n",
       "      <th>FACTOR</th>\n",
       "      <th>ACCRUED INCOME</th>\n",
       "      <th>ALT ID1 TYPE</th>\n",
       "      <th>ALT ID1 VALUE</th>\n",
       "      <th>ALT ID2 TYPE</th>\n",
       "      <th>ALT ID2 VALUE</th>\n",
       "      <th>ALT ID3 TYPE</th>\n",
       "      <th>ALT ID3 VALUE</th>\n",
       "    </tr>\n",
       "  </thead>\n",
       "  <tbody>\n",
       "    <tr>\n",
       "      <th>0</th>\n",
       "      <td>EQUITY</td>\n",
       "      <td>AKER BP</td>\n",
       "      <td></td>\n",
       "      <td>R0139K100</td>\n",
       "      <td>NO0010345853</td>\n",
       "      <td>B1L95G3</td>\n",
       "      <td>330.0000</td>\n",
       "      <td>329.2049</td>\n",
       "      <td>0.0000</td>\n",
       "      <td>32.278408</td>\n",
       "      <td>NOK</td>\n",
       "      <td>1.000000</td>\n",
       "      <td></td>\n",
       "      <td></td>\n",
       "      <td></td>\n",
       "      <td></td>\n",
       "      <td></td>\n",
       "      <td></td>\n",
       "      <td></td>\n",
       "    </tr>\n",
       "  </tbody>\n",
       "</table>\n",
       "</div>"
      ],
      "text/plain": [
       "  ASSET CLASS     NAME MIC      CUSIP          ISIN    SEDOL  \\\n",
       "0      EQUITY  AKER BP      R0139K100  NO0010345853  B1L95G3   \n",
       "\n",
       "  DELIVERABLE BASKET QTY PRICING BASKET QTY EXCLUDED BASKET QTY  \\\n",
       "0               330.0000           329.2049              0.0000   \n",
       "\n",
       "  PRICE(in Fund Base Currency) LOCAL CURRENCY    FACTOR ACCRUED INCOME  \\\n",
       "0                    32.278408            NOK  1.000000                  \n",
       "\n",
       "  ALT ID1 TYPE  ALT ID1 VALUE ALT ID2 TYPE  ALT ID2 VALUE ALT ID3 TYPE  \\\n",
       "0                                                                        \n",
       "\n",
       "   ALT ID3 VALUE  \n",
       "0                 "
      ]
     },
     "execution_count": 11,
     "metadata": {},
     "output_type": "execute_result"
    }
   ],
   "source": [
    "sec_df = pd.DataFrame(sec_data, columns=sec_headers)\n",
    "sec_df"
   ]
  },
  {
   "cell_type": "code",
   "execution_count": 8,
   "metadata": {},
   "outputs": [
    {
     "data": {
      "text/html": [
       "<div>\n",
       "<style scoped>\n",
       "    .dataframe tbody tr th:only-of-type {\n",
       "        vertical-align: middle;\n",
       "    }\n",
       "\n",
       "    .dataframe tbody tr th {\n",
       "        vertical-align: top;\n",
       "    }\n",
       "\n",
       "    .dataframe thead th {\n",
       "        text-align: right;\n",
       "    }\n",
       "</style>\n",
       "<table border=\"1\" class=\"dataframe\">\n",
       "  <thead>\n",
       "    <tr style=\"text-align: right;\">\n",
       "      <th></th>\n",
       "      <th>ASSET CLASS</th>\n",
       "      <th>NAME</th>\n",
       "      <th>RIC</th>\n",
       "      <th>CUSIP</th>\n",
       "      <th>ISIN</th>\n",
       "      <th>SEDOL</th>\n",
       "      <th>DELIVERABLE BASKET QTY</th>\n",
       "      <th>PRICING BASKET QTY</th>\n",
       "      <th>EXCLUDED BASKET QTY</th>\n",
       "      <th>PRICE(in Fund Base Currency)</th>\n",
       "      <th>PRICE MULTIPLIER</th>\n",
       "      <th>CONTRACT SIZE</th>\n",
       "      <th>AVERAGE CONTRACT OPEN PRICE</th>\n",
       "      <th>BLOOMBERG TICKER</th>\n",
       "    </tr>\n",
       "  </thead>\n",
       "  <tbody>\n",
       "    <tr>\n",
       "      <th>0</th>\n",
       "      <td>FUTURES</td>\n",
       "      <td>EMINI ENERGY SELECT SECTOR MAR 19</td>\n",
       "      <td>1XAEH9</td>\n",
       "      <td></td>\n",
       "      <td></td>\n",
       "      <td></td>\n",
       "      <td>0</td>\n",
       "      <td>0.04098</td>\n",
       "      <td>0</td>\n",
       "      <td>625.000000</td>\n",
       "      <td></td>\n",
       "      <td>100</td>\n",
       "      <td></td>\n",
       "      <td>IXPH9</td>\n",
       "    </tr>\n",
       "  </tbody>\n",
       "</table>\n",
       "</div>"
      ],
      "text/plain": [
       "  ASSET CLASS                               NAME     RIC CUSIP ISIN SEDOL  \\\n",
       "0     FUTURES  EMINI ENERGY SELECT SECTOR MAR 19  1XAEH9                    \n",
       "\n",
       "  DELIVERABLE BASKET QTY PRICING BASKET QTY EXCLUDED BASKET QTY  \\\n",
       "0                      0            0.04098                   0   \n",
       "\n",
       "  PRICE(in Fund Base Currency) PRICE MULTIPLIER CONTRACT SIZE  \\\n",
       "0                   625.000000                            100   \n",
       "\n",
       "  AVERAGE CONTRACT OPEN PRICE BLOOMBERG TICKER  \n",
       "0                                        IXPH9  "
      ]
     },
     "execution_count": 8,
     "metadata": {},
     "output_type": "execute_result"
    }
   ],
   "source": [
    "syn_df = pd.DataFrame(syn_data, columns=syn_headers)\n",
    "syn_df"
   ]
  },
  {
   "cell_type": "code",
   "execution_count": 16,
   "metadata": {},
   "outputs": [
    {
     "data": {
      "text/plain": [
       "[['',\n",
       "  '',\n",
       "  '',\n",
       "  '',\n",
       "  '',\n",
       "  '',\n",
       "  '',\n",
       "  'EQUITY',\n",
       "  '',\n",
       "  '',\n",
       "  '',\n",
       "  'R0139K100',\n",
       "  '330.0000',\n",
       "  '0.0000',\n",
       "  '1.000000',\n",
       "  'NO0010345853',\n",
       "  'NOK',\n",
       "  '',\n",
       "  'AKER BP',\n",
       "  '',\n",
       "  '32.278408',\n",
       "  '329.2049',\n",
       "  '',\n",
       "  'B1L95G3'],\n",
       " ['',\n",
       "  '',\n",
       "  '',\n",
       "  '',\n",
       "  '',\n",
       "  '',\n",
       "  '',\n",
       "  'FUTURES',\n",
       "  '',\n",
       "  'IXPH9',\n",
       "  '100',\n",
       "  '',\n",
       "  '0',\n",
       "  '0',\n",
       "  '',\n",
       "  '',\n",
       "  '',\n",
       "  '',\n",
       "  'EMINI ENERGY SELECT SECTOR MAR 19',\n",
       "  '',\n",
       "  '625.000000',\n",
       "  '0.04098',\n",
       "  '1XAEH9',\n",
       "  '']]"
      ]
     },
     "execution_count": 16,
     "metadata": {},
     "output_type": "execute_result"
    }
   ],
   "source": [
    "merged = sec_df.append(syn_df).fillna('')\n",
    "merged.values.tolist()"
   ]
  },
  {
   "cell_type": "code",
   "execution_count": 10,
   "metadata": {},
   "outputs": [
    {
     "data": {
      "text/plain": [
       "[[' ALT ID1 VALUE',\n",
       "  ' ALT ID2 VALUE',\n",
       "  ' ALT ID3 VALUE',\n",
       "  'ACCRUED INCOME',\n",
       "  'ALT ID1 TYPE',\n",
       "  'ALT ID2 TYPE',\n",
       "  'ALT ID3 TYPE',\n",
       "  'ASSET CLASS',\n",
       "  'AVERAGE CONTRACT OPEN PRICE',\n",
       "  'BLOOMBERG TICKER',\n",
       "  'CONTRACT SIZE',\n",
       "  'CUSIP',\n",
       "  'DELIVERABLE BASKET QTY',\n",
       "  'EXCLUDED BASKET QTY',\n",
       "  'FACTOR',\n",
       "  'ISIN',\n",
       "  'LOCAL CURRENCY',\n",
       "  'MIC',\n",
       "  'NAME',\n",
       "  'PRICE MULTIPLIER',\n",
       "  'PRICE(in Fund Base Currency)',\n",
       "  'PRICING BASKET QTY',\n",
       "  'RIC',\n",
       "  'SEDOL'],\n",
       " ['',\n",
       "  '',\n",
       "  '',\n",
       "  '',\n",
       "  '',\n",
       "  '',\n",
       "  '',\n",
       "  'EQUITY',\n",
       "  '',\n",
       "  '',\n",
       "  '',\n",
       "  'R0139K100',\n",
       "  '330.0000',\n",
       "  '0.0000',\n",
       "  '1.000000',\n",
       "  'NO0010345853',\n",
       "  'NOK',\n",
       "  '',\n",
       "  'AKER BP',\n",
       "  '',\n",
       "  '32.278408',\n",
       "  '329.2049',\n",
       "  '',\n",
       "  'B1L95G3'],\n",
       " ['',\n",
       "  '',\n",
       "  '',\n",
       "  '',\n",
       "  '',\n",
       "  '',\n",
       "  '',\n",
       "  'FUTURES',\n",
       "  '',\n",
       "  'IXPH9',\n",
       "  '100',\n",
       "  '',\n",
       "  '0',\n",
       "  '0',\n",
       "  '',\n",
       "  '',\n",
       "  '',\n",
       "  '',\n",
       "  'EMINI ENERGY SELECT SECTOR MAR 19',\n",
       "  '',\n",
       "  '625.000000',\n",
       "  '0.04098',\n",
       "  '1XAEH9',\n",
       "  '']]"
      ]
     },
     "execution_count": 10,
     "metadata": {},
     "output_type": "execute_result"
    }
   ],
   "source": [
    "merged2 = pd.concat([sec_df, syn_df]).fillna('')\n",
    "\n",
    "res = merged2.values.tolist()\n",
    "res.insert(0, list(merged2))\n",
    "res"
   ]
  }
 ],
 "metadata": {
  "kernelspec": {
   "display_name": "Python 3",
   "language": "python",
   "name": "python3"
  },
  "language_info": {
   "codemirror_mode": {
    "name": "ipython",
    "version": 3
   },
   "file_extension": ".py",
   "mimetype": "text/x-python",
   "name": "python",
   "nbconvert_exporter": "python",
   "pygments_lexer": "ipython3",
   "version": "3.6.2"
  }
 },
 "nbformat": 4,
 "nbformat_minor": 2
}
